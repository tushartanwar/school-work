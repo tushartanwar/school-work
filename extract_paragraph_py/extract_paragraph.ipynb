{
 "cells": [
  {
   "cell_type": "markdown",
   "metadata": {},
   "source": [
    "# Problem Statement:\n",
    "    To create an automated way to extract the paragraphs from a file and put them into a different files.\n",
    "    \n",
    "## Sample Example:\n",
    "    Below is the sample data of the file (INPUT):\n",
    "\n",
    "--> FILE NAME: dummy_file_1.txt<br>\n",
    "\n",
    "Author Name: Tushar\n",
    "<br>\n",
    "Date: 01-Jan-2019\n",
    "<br> \n",
    "Text:\n",
    "<br>\n",
    "Sunset is the time of day when our sky meets the outer space solar winds. There are blue, pink, and purple swirls, spinning and twisting, like clouds of balloons caught in a whirlwind. The sun moves slowly to hide behind the line of horizon, while the moon races to take its place in prominence atop the night sky. People slow to a crawl, entranced, fully forgetting the deeds that must still be done. There is a coolness, a calmness, when the sun does set.\n",
    "<br><br>\n",
    "Above sample text has been taken from https://patternbasedwriting.com/elementary_writing_success/paragraph-examples/\n",
    "<br><br>\n",
    "This a sample ending line.\n",
    "\n",
    "    Below is the expected output (OUTPUT):\n",
    "\n",
    "--> dummy_file_1_part_1.txt <br>\n",
    "Sunset is the time of day when our sky meets the outer space solar winds. There are blue, pink, and purple swirls, spinning and twisting, like clouds of balloons caught in a whirlwind. The sun moves slowly to hide behind the line of horizon, while the moon races to take its place in prominence atop the night sky. People slow to a \n",
    "\n",
    "--> dummy_file_1_part_2.txt <br>\n",
    "Above sample text has been taken from https://patternbasedwriting.com/elementary_writing_success/paragraph-examples/\n",
    "\n",
    "--> dummy_file_1_part_3.txt <br>\n",
    "This a sample ending line.\n",
    "\n",
    "\n",
    "# Other information:\n",
    "    \n",
    "    - Extract data from the file after keyword 'Text:'.\n",
    "    - There are many files in the directory.\n",
    "    - For each file the same operation needs to be performed.\n",
    "    \n",
    "# How script works?\n",
    "    - PARAMETERS \n",
    "        => file_input -> Absolute path of the directory in which the files are kept.\n",
    "        => file_output -> Absolute path of the directory in which output files will be generated."
   ]
  },
  {
   "cell_type": "code",
   "execution_count": null,
   "metadata": {},
   "outputs": [],
   "source": [
    "import re\n",
    "import os\n",
    "\n",
    "def split_file(file_input,file_output):\n",
    "    # List the files in the input directory.\n",
    "    for file in os.listdir(file_input):\n",
    "            # Ignoring all the files starting with '.' and picking only '.txt' files. \n",
    "            if file.endswith('.txt') and not file.startswith('.'):\n",
    "                # Flag to read data after the keyword 'Text:'\n",
    "                flag = 0\n",
    "                # Counter to append in the filename.\n",
    "                counter = 0\n",
    "                # Iterating over the file.\n",
    "                with open(file_input+file) as f:\n",
    "                    for line in f:\n",
    "                        if re.match('^text:$', line.lower()):\n",
    "                            flag = 1\n",
    "                        elif flag == 1:\n",
    "                            # Looking for the new paragraph where ever there is an empty line.\n",
    "                            if line.strip() == '':\n",
    "                                counter += 1\n",
    "                                pass\n",
    "                            else:\n",
    "                                with open(file_output+file.split('.')[0]+'_part'+str(counter)+'.txt','a+') as o_file:\n",
    "                                    o_file.write(line)\n",
    "                        else:\n",
    "                            pass"
   ]
  },
  {
   "cell_type": "code",
   "execution_count": null,
   "metadata": {},
   "outputs": [],
   "source": [
    "split_file('/some/sample/input/dir','/some/sample/output/dir')"
   ]
  }
 ],
 "metadata": {
  "kernelspec": {
   "display_name": "Python 3",
   "language": "python",
   "name": "python3"
  },
  "language_info": {
   "codemirror_mode": {
    "name": "ipython",
    "version": 3
   },
   "file_extension": ".py",
   "mimetype": "text/x-python",
   "name": "python",
   "nbconvert_exporter": "python",
   "pygments_lexer": "ipython3",
   "version": "3.7.3"
  }
 },
 "nbformat": 4,
 "nbformat_minor": 2
}
